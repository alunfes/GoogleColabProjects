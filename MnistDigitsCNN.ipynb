{
  "nbformat": 4,
  "nbformat_minor": 0,
  "metadata": {
    "colab": {
      "provenance": [],
      "authorship_tag": "ABX9TyNjiQbOS7ssBwx+lTxxeru8",
      "include_colab_link": true
    },
    "kernelspec": {
      "name": "python3",
      "display_name": "Python 3"
    },
    "language_info": {
      "name": "python"
    }
  },
  "cells": [
    {
      "cell_type": "markdown",
      "metadata": {
        "id": "view-in-github",
        "colab_type": "text"
      },
      "source": [
        "<a href=\"https://colab.research.google.com/github/alunfes/GoogleColabProjects/blob/main/MnistDigitsCNN.ipynb\" target=\"_parent\"><img src=\"https://colab.research.google.com/assets/colab-badge.svg\" alt=\"Open In Colab\"/></a>"
      ]
    },
    {
      "cell_type": "code",
      "execution_count": 10,
      "metadata": {
        "id": "3E5M08hp5Zb9"
      },
      "outputs": [],
      "source": [
        "import torch\n",
        "import torch.nn as nn\n",
        "import torch.nn.functional as F\n",
        "import torch.optim as optim\n",
        "import torchvision\n",
        "import torchvision.transforms as transforms\n",
        "from sklearn.datasets import fetch_openml\n",
        "from sklearn.model_selection import train_test_split\n",
        "import numpy as np\n",
        "import matplotlib.pyplot as plt\n",
        "from sklearn.model_selection import train_test_split\n",
        "from torchvision import datasets, transforms"
      ]
    },
    {
      "cell_type": "code",
      "source": [
        "# MNISTデータセットを読み込み、トレーニング用とテスト用に分割\n",
        "mnist_data = datasets.MNIST(root=\"./data\", train=True, download=True, transform=transforms.ToTensor())\n",
        "train_data, test_data = torch.utils.data.random_split(mnist_data, [48000, 12000])  # トレーニングデータ48000枚、テストデータ12000枚\n",
        "\n",
        "# DataLoaderを使用してデータをバッチ処理する\n",
        "train_loader = torch.utils.data.DataLoader(train_data, batch_size=64, shuffle=True)\n",
        "test_loader = torch.utils.data.DataLoader(test_data, batch_size=64, shuffle=False)\n",
        "\n",
        "# Get the size of the first image in the training data\n",
        "first_image, _ = train_data[0]\n",
        "image_size = first_image.shape\n",
        "print(\"Image size:\", image_size)"
      ],
      "metadata": {
        "colab": {
          "base_uri": "https://localhost:8080/"
        },
        "id": "5ZSNjtCj6CQA",
        "outputId": "de63a1b9-026d-455e-920e-2693c6bf1610"
      },
      "execution_count": 11,
      "outputs": [
        {
          "output_type": "stream",
          "name": "stdout",
          "text": [
            "Image size: torch.Size([1, 28, 28])\n"
          ]
        }
      ]
    },
    {
      "cell_type": "code",
      "source": [
        "class CNN(nn.Module):\n",
        "    def __init__(self):\n",
        "        super(CNN, self).__init__()\n",
        "        # First convolutional layer\n",
        "        self.conv1 = nn.Conv2d(1, 32, kernel_size=3, padding=1)\n",
        "        # Second convolutional layer\n",
        "        self.conv2 = nn.Conv2d(32, 64, kernel_size=3, padding=1)\n",
        "        # Max pooling layer\n",
        "        self.pool = nn.MaxPool2d(2, 2)\n",
        "        # Dropout layer to prevent overfitting\n",
        "        self.dropout = nn.Dropout(0.25)\n",
        "        # Fully connected layers\n",
        "        self.fc1 = nn.Linear(64 * 7 * 7, 128)\n",
        "        self.fc2 = nn.Linear(128, 10)\n",
        "\n",
        "    def forward(self, x):\n",
        "        # Apply first convolutional layer, followed by activation and pooling\n",
        "        x = self.pool(torch.relu(self.conv1(x)))\n",
        "        # Apply second convolutional layer, followed by activation and pooling\n",
        "        x = self.pool(torch.relu(self.conv2(x)))\n",
        "        # Flatten the output from convolutional layers\n",
        "        x = torch.flatten(x, 1)\n",
        "        # Apply dropout\n",
        "        x = self.dropout(x)\n",
        "        # Fully connected layers\n",
        "        x = torch.relu(self.fc1(x))\n",
        "        x = self.dropout(x)\n",
        "        x = self.fc2(x)\n",
        "        return x"
      ],
      "metadata": {
        "id": "LDanP6HR5dhr"
      },
      "execution_count": 12,
      "outputs": []
    },
    {
      "cell_type": "code",
      "source": [
        "# Initialize the model\n",
        "model = CNN()\n",
        "# Define loss function and optimizer\n",
        "criterion = nn.CrossEntropyLoss()\n",
        "optimizer = optim.Adam(model.parameters(), lr=0.001)\n",
        "# Training loop\n",
        "epochs = 50  # Increased the number of epochs\n",
        "batch_size = 64  # Use mini-batch training\n",
        "\n",
        "for epoch in range(epochs):\n",
        "    running_loss = 0.0\n",
        "    for batch_X, batch_y in train_loader:\n",
        "        # Forward pass\n",
        "        outputs = model(batch_X)\n",
        "        loss = criterion(outputs, batch_y)\n",
        "        # Backward pass and optimization\n",
        "        optimizer.zero_grad()\n",
        "        loss.backward()\n",
        "        optimizer.step()\n",
        "        running_loss += loss.item()\n",
        "    print(f\"Epoch {epoch+1}/{epochs}, Loss: {running_loss / len(train_loader)}\")\n",
        "# Evaluation\n",
        "correct = 0\n",
        "total = 0\n",
        "with torch.no_grad():\n",
        "    for batch_X, batch_y in test_loader:\n",
        "        outputs = model(batch_X)\n",
        "        _, predicted = torch.max(outputs.data, 1)\n",
        "        total += batch_y.size(0)\n",
        "        correct += (predicted == batch_y).sum().item()\n",
        "print(f\"Accuracy on test set: {(correct / total) * 100:.2f}%\")\n"
      ],
      "metadata": {
        "colab": {
          "base_uri": "https://localhost:8080/"
        },
        "id": "jKCpfNRh6d2-",
        "outputId": "f23653ca-8e14-4115-ee15-b3b810149651"
      },
      "execution_count": null,
      "outputs": [
        {
          "output_type": "stream",
          "name": "stdout",
          "text": [
            "Epoch 1/50, Loss: 0.2724631878150006\n",
            "Epoch 2/50, Loss: 0.08430924515984953\n",
            "Epoch 3/50, Loss: 0.06312953585168968\n",
            "Epoch 4/50, Loss: 0.049992486560717225\n",
            "Epoch 5/50, Loss: 0.04584702729992569\n",
            "Epoch 6/50, Loss: 0.03827630283179072\n",
            "Epoch 7/50, Loss: 0.034877867130097\n",
            "Epoch 8/50, Loss: 0.031063458256151838\n"
          ]
        }
      ]
    },
    {
      "cell_type": "code",
      "source": [
        "from google.colab import drive\n",
        "drive.mount('/content/drive')\n",
        "model_directory = '/content/drive/My Drive/Model/'\n",
        "torch.save(model.state_dict(), model_directory+'digits_cnn.pth')"
      ],
      "metadata": {
        "id": "QQZGpo8P6qOQ"
      },
      "execution_count": null,
      "outputs": []
    },
    {
      "cell_type": "code",
      "source": [],
      "metadata": {
        "id": "YC7vqSyEBGlo"
      },
      "execution_count": null,
      "outputs": []
    }
  ]
}