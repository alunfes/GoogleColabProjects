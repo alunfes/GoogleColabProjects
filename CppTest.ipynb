{
  "nbformat": 4,
  "nbformat_minor": 0,
  "metadata": {
    "colab": {
      "provenance": [],
      "authorship_tag": "ABX9TyPpObMTHYtTXcL7DNrWJGwv",
      "include_colab_link": true
    },
    "kernelspec": {
      "name": "python3",
      "display_name": "Python 3"
    },
    "language_info": {
      "name": "python"
    }
  },
  "cells": [
    {
      "cell_type": "markdown",
      "metadata": {
        "id": "view-in-github",
        "colab_type": "text"
      },
      "source": [
        "<a href=\"https://colab.research.google.com/github/alunfes/GoogleColabProjects/blob/main/CppTest.ipynb\" target=\"_parent\"><img src=\"https://colab.research.google.com/assets/colab-badge.svg\" alt=\"Open In Colab\"/></a>"
      ]
    },
    {
      "cell_type": "code",
      "execution_count": null,
      "metadata": {
        "colab": {
          "base_uri": "https://localhost:8080/"
        },
        "id": "r3dCvLnoymGe",
        "outputId": "c66eacb4-3429-4990-b8be-1ad86d507082"
      },
      "outputs": [
        {
          "output_type": "stream",
          "name": "stdout",
          "text": [
            "g++ (Ubuntu 11.4.0-1ubuntu1~22.04) 11.4.0\n",
            "Copyright (C) 2021 Free Software Foundation, Inc.\n",
            "This is free software; see the source for copying conditions.  There is NO\n",
            "warranty; not even for MERCHANTABILITY or FITNESS FOR A PARTICULAR PURPOSE.\n",
            "\n"
          ]
        }
      ],
      "source": [
        "!g++ --version"
      ]
    },
    {
      "cell_type": "code",
      "source": [
        "%%writefile temp.cpp\n",
        "# include <bits/stdc++.h>\n",
        "using namespace std;\n",
        "int main() {\n",
        "  cout << \"Hello World!\" << endl;\n",
        "}"
      ],
      "metadata": {
        "colab": {
          "base_uri": "https://localhost:8080/"
        },
        "id": "aSGL7FHZyqaX",
        "outputId": "751217a6-f95a-4469-db04-91ad8d55cdfd"
      },
      "execution_count": null,
      "outputs": [
        {
          "output_type": "stream",
          "name": "stdout",
          "text": [
            "Writing temp.cpp\n"
          ]
        }
      ]
    },
    {
      "cell_type": "code",
      "source": [
        "!g++ temp.cpp; ./a.out"
      ],
      "metadata": {
        "colab": {
          "base_uri": "https://localhost:8080/"
        },
        "id": "vVMayoeCzryA",
        "outputId": "ea2b9377-11c9-490e-96a9-2103ad7e0681"
      },
      "execution_count": null,
      "outputs": [
        {
          "output_type": "stream",
          "name": "stdout",
          "text": [
            "Hello World!\n"
          ]
        }
      ]
    },
    {
      "cell_type": "code",
      "source": [
        "%%writefile temp.cpp\n",
        "#include <iostream>\n",
        "using namespace std;\n",
        "\n",
        "class Calculator {\n",
        "private:\n",
        "    int a, b;\n",
        "\n",
        "public:\n",
        "    Calculator(int x, int y) : a(x), b(y) {}\n",
        "\n",
        "    int getA() { return a; }\n",
        "    int getB() { return b; }\n",
        "\n",
        "    void setA(int x) { a = x; }\n",
        "    void setB(int y) { b = y; }\n",
        "\n",
        "    int sum() {\n",
        "        return a + b;\n",
        "    }\n",
        "};\n",
        "\n",
        "int main() {\n",
        "    Calculator calc(10, 20);\n",
        "\n",
        "    cout << \"The sum of \" << calc.getA() << \" and \" << calc.getB() << \" is \" << calc.sum() << endl;\n",
        "\n",
        "    return 0;\n",
        "}\n"
      ],
      "metadata": {
        "colab": {
          "base_uri": "https://localhost:8080/"
        },
        "id": "TrLtNa7Iztm2",
        "outputId": "909868f9-b311-4402-93ce-b9d14186c6b5"
      },
      "execution_count": null,
      "outputs": [
        {
          "output_type": "stream",
          "name": "stdout",
          "text": [
            "Overwriting temp.cpp\n"
          ]
        }
      ]
    },
    {
      "cell_type": "code",
      "source": [
        "!g++ temp.cpp -o temp"
      ],
      "metadata": {
        "id": "5AIiUtru2wS1"
      },
      "execution_count": null,
      "outputs": []
    },
    {
      "cell_type": "code",
      "source": [
        "!./temp"
      ],
      "metadata": {
        "colab": {
          "base_uri": "https://localhost:8080/"
        },
        "id": "BTKVUNw-205g",
        "outputId": "6975611e-8054-4398-b225-320741938ede"
      },
      "execution_count": null,
      "outputs": [
        {
          "output_type": "stream",
          "name": "stdout",
          "text": [
            "The sum of 10 and 20 is 30\n"
          ]
        }
      ]
    },
    {
      "cell_type": "code",
      "source": [
        "class MarketData {\n",
        "public:\n",
        "    static void initialize(const std::vector<int>& terms);\n",
        "    static std::vector<double> close;  // 例として、他の変数も同様に\n",
        "\n",
        "private:\n",
        "    static void readData();\n",
        "    static void calcAllIndex();\n",
        "    // その他のメソッドも同様に\n",
        "};\n"
      ],
      "metadata": {
        "id": "T6RadgsP27F8"
      },
      "execution_count": null,
      "outputs": []
    },
    {
      "cell_type": "code",
      "source": [
        "class TradingEnv {\n",
        "public:\n",
        "    TradingEnv(bool displayFlg, int startInd, int endInd, int stateLength);\n",
        "    void reset();\n",
        "\n",
        "    // その他のメソッドも同様に\n",
        "\n",
        "private:\n",
        "    bool displayFlg;\n",
        "    int startInd, endInd, stateLength;\n",
        "    // その他のメンバ変数\n",
        "\n",
        "    void takeAction(int actionInd, double actionRatio);\n",
        "    // その他のプライベートメソッド\n",
        "};\n"
      ],
      "metadata": {
        "id": "arGZ3smVKG2q"
      },
      "execution_count": null,
      "outputs": []
    },
    {
      "cell_type": "code",
      "source": [
        "int main() {\n",
        "    // MarketDataの初期化\n",
        "    MarketData::initialize({5, 15, 60, 120, 240, 720});\n",
        "\n",
        "    // TradingEnvのインスタンスを作成\n",
        "    TradingEnv env(true, 10000, MarketData::close.size() - 1, 5);\n",
        "\n",
        "    // シミュレーションループ\n",
        "    for (int step = 0; step < 1000; ++step) {\n",
        "        // アクションとステップの実行\n",
        "        // ...\n",
        "\n",
        "        // 結果の出力\n",
        "        // ...\n",
        "    }\n",
        "\n",
        "    return 0;\n",
        "}\n"
      ],
      "metadata": {
        "id": "vRHJofASKIZH"
      },
      "execution_count": null,
      "outputs": []
    }
  ]
}