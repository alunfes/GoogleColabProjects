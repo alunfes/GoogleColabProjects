{
  "nbformat": 4,
  "nbformat_minor": 0,
  "metadata": {
    "colab": {
      "provenance": [],
      "authorship_tag": "ABX9TyPfYptb5JMt7x0fhBx2mOGV",
      "include_colab_link": true
    },
    "kernelspec": {
      "name": "python3",
      "display_name": "Python 3"
    },
    "language_info": {
      "name": "python"
    }
  },
  "cells": [
    {
      "cell_type": "markdown",
      "metadata": {
        "id": "view-in-github",
        "colab_type": "text"
      },
      "source": [
        "<a href=\"https://colab.research.google.com/github/alunfes/GoogleColabProjects/blob/main/SynthesisArbAnalysis.ipynb\" target=\"_parent\"><img src=\"https://colab.research.google.com/assets/colab-badge.svg\" alt=\"Open In Colab\"/></a>"
      ]
    },
    {
      "cell_type": "code",
      "execution_count": 27,
      "metadata": {
        "colab": {
          "base_uri": "https://localhost:8080/"
        },
        "id": "WcDD5amn4v1d",
        "outputId": "f89bc248-76d6-46da-9f07-5370478007fd"
      },
      "outputs": [
        {
          "output_type": "stream",
          "name": "stdout",
          "text": [
            "Drive already mounted at /content/drive; to attempt to forcibly remount, call drive.mount(\"/content/drive\", force_remount=True).\n"
          ]
        }
      ],
      "source": [
        "from google.colab import drive\n",
        "drive.mount('/content/drive')"
      ]
    },
    {
      "cell_type": "code",
      "source": [
        "import pandas as pd\n",
        "import time\n",
        "from datetime import datetime, timedelta\n",
        "import matplotlib.pyplot as plt\n",
        "import os\n",
        "import multiprocessing as mp\n",
        "import numpy as np\n",
        "import itertools\n",
        "import re"
      ],
      "metadata": {
        "id": "Uj5pTUJW565f"
      },
      "execution_count": 28,
      "outputs": []
    },
    {
      "cell_type": "code",
      "source": [
        "directory = '/content/drive/My Drive/MarketData/ohlc'"
      ],
      "metadata": {
        "id": "bMHD7cSE58Nn"
      },
      "execution_count": 29,
      "outputs": []
    },
    {
      "cell_type": "code",
      "source": [
        "\n",
        "\n",
        "def adjust_ohlc_values(df, filename):\n",
        "    \"\"\"\n",
        "    Adjusts the OHLC values in the dataframe based on the filename.\n",
        "\n",
        "    Parameters:\n",
        "    df (pandas.DataFrame): The dataframe containing the OHLC data.\n",
        "    filename (str): The name of the file.\n",
        "\n",
        "    Returns:\n",
        "    pandas.DataFrame: The adjusted dataframe.\n",
        "    \"\"\"\n",
        "\n",
        "    # Extract the multiplier from the filename using regex\n",
        "    multiplier_match = re.search(r'(\\d+)', filename)\n",
        "    if multiplier_match:\n",
        "        multiplier = int(multiplier_match.group(1))\n",
        "\n",
        "        # Divide the OHLC values by the multiplier\n",
        "        df['open'] /= multiplier\n",
        "        df['high'] /= multiplier\n",
        "        df['low'] /= multiplier\n",
        "        df['close'] /= multiplier\n",
        "    return df\n",
        "\n",
        "def read_data():\n",
        "    cleansed_files = [os.path.join(directory, f) for f in os.listdir(directory) if f.startswith('cleansed_') and f.endswith('.csv')]\n",
        "    filenames = []\n",
        "    target_files = {}\n",
        "    for f in cleansed_files:\n",
        "        filenames.append(f.split('_')[1].split('.')[0])\n",
        "        target_files[filenames[-1]] = adjust_ohlc_values(pd.read_csv(f), filenames[-1])\n",
        "    return target_files\n",
        "\n",
        "target_files = read_data()"
      ],
      "metadata": {
        "id": "xZ14LLXq5_hT"
      },
      "execution_count": 34,
      "outputs": []
    },
    {
      "cell_type": "code",
      "source": [
        "# 各取引所のペアリストを取得\n",
        "okx_pairs = [pair.replace('okx-', '') for pair in target_files.keys() if pair.startswith('okx-')]\n",
        "bybit_pairs = [pair.replace('bybit-', '') for pair in target_files.keys() if pair.startswith('bybit-')]\n",
        "apexpro_pairs = [pair.replace('apexpro-', '') for pair in target_files.keys() if pair.startswith('apexpro-')]\n",
        "\n",
        "# 各取引所間で共通のペアを見つける\n",
        "common_pairs = set(okx_pairs + bybit_pairs + apexpro_pairs)\n",
        "\n",
        "# 結果を格納するためのリストを作成\n",
        "results = []\n",
        "\n",
        "# 各取引所間の価格差を計算し、統計情報を出力\n",
        "for pair in common_pairs:\n",
        "    exchanges = []\n",
        "    if pair in okx_pairs:\n",
        "        exchanges.append('okx')\n",
        "    if pair in bybit_pairs:\n",
        "        exchanges.append('bybit')\n",
        "    if pair.replace('-USDT', '-USDC') in apexpro_pairs:\n",
        "        exchanges.append('apexpro')\n",
        "\n",
        "    # 少なくとも2つ以上の取引所でbase/quoteが一致している場合に価格差を比較\n",
        "    if len(exchanges) >= 2:\n",
        "        prices = []\n",
        "        for exchange in exchanges:\n",
        "            pair_name = f\"{exchange}-{pair.replace('-USDT', '-USDC') if exchange == 'apexpro' else pair}\"\n",
        "\n",
        "            # apexproの価格をUSDT基準に修正\n",
        "            if exchange == 'apexpro':\n",
        "                target_files[pair_name]['close'] *= usdc_usdt\n",
        "\n",
        "            prices.append(target_files[pair_name]['close'])\n",
        "\n",
        "        # 各時刻における最大と最小の価格を計算\n",
        "        max_price = pd.concat(prices, axis=1).max(axis=1)\n",
        "        min_price = pd.concat(prices, axis=1).min(axis=1)\n",
        "\n",
        "        # 価格差を計算\n",
        "        price_diff = max_price - min_price\n",
        "\n",
        "        # 価格差の統計情報をリストに追加\n",
        "        results.append({\n",
        "            'Pair': pair,\n",
        "            'Exchanges': ', '.join(exchanges),\n",
        "            'Max': price_diff.max(),\n",
        "            'Min': price_diff.min(),\n",
        "            'Mean': price_diff.mean(),\n",
        "            'Std': price_diff.std()\n",
        "        })\n",
        "\n",
        "# 結果のリストをデータフレームに変換\n",
        "result_df = pd.DataFrame(results)\n",
        "\n",
        "# 結果のデータフレームを表示\n",
        "result_df"
      ],
      "metadata": {
        "colab": {
          "base_uri": "https://localhost:8080/",
          "height": 424
        },
        "id": "Sigo8IPH6YsT",
        "outputId": "716ec8b8-3a1c-4558-aae3-27b3007237d3"
      },
      "execution_count": 52,
      "outputs": [
        {
          "output_type": "execute_result",
          "data": {
            "text/plain": [
              "            Pair            Exchanges       Max      Min      Mean       Std\n",
              "0       JST-USDT           okx, bybit  0.000180  0.00000  0.000017  0.000015\n",
              "1       XRP-USDT  okx, bybit, apexpro  0.015518  0.00000  0.000680  0.000643\n",
              "2       GMX-USDT           okx, bybit  0.190000  0.00000  0.025254  0.019608\n",
              "3       FIL-USDT           okx, bybit  0.049000  0.00000  0.001723  0.001301\n",
              "4       ARB-USDT  okx, bybit, apexpro  0.032897  0.00002  0.001903  0.001546\n",
              "..           ...                  ...       ...      ...       ...       ...\n",
              "106     ENJ-USDT           okx, bybit  0.001200  0.00000  0.000258  0.000190\n",
              "107     CRO-USDT           okx, bybit  0.000500  0.00000  0.000064  0.000052\n",
              "108     ZEN-USDT           okx, bybit  0.034000  0.00000  0.004704  0.003767\n",
              "109  PEOPLE-USDT           okx, bybit  0.000110  0.00000  0.000022  0.000015\n",
              "110     REN-USDT           okx, bybit  0.000550  0.00000  0.000058  0.000043\n",
              "\n",
              "[111 rows x 6 columns]"
            ],
            "text/html": [
              "\n",
              "  <div id=\"df-c5cf6685-d0a0-4f72-b18e-d2c417dc24bf\">\n",
              "    <div class=\"colab-df-container\">\n",
              "      <div>\n",
              "<style scoped>\n",
              "    .dataframe tbody tr th:only-of-type {\n",
              "        vertical-align: middle;\n",
              "    }\n",
              "\n",
              "    .dataframe tbody tr th {\n",
              "        vertical-align: top;\n",
              "    }\n",
              "\n",
              "    .dataframe thead th {\n",
              "        text-align: right;\n",
              "    }\n",
              "</style>\n",
              "<table border=\"1\" class=\"dataframe\">\n",
              "  <thead>\n",
              "    <tr style=\"text-align: right;\">\n",
              "      <th></th>\n",
              "      <th>Pair</th>\n",
              "      <th>Exchanges</th>\n",
              "      <th>Max</th>\n",
              "      <th>Min</th>\n",
              "      <th>Mean</th>\n",
              "      <th>Std</th>\n",
              "    </tr>\n",
              "  </thead>\n",
              "  <tbody>\n",
              "    <tr>\n",
              "      <th>0</th>\n",
              "      <td>JST-USDT</td>\n",
              "      <td>okx, bybit</td>\n",
              "      <td>0.000180</td>\n",
              "      <td>0.00000</td>\n",
              "      <td>0.000017</td>\n",
              "      <td>0.000015</td>\n",
              "    </tr>\n",
              "    <tr>\n",
              "      <th>1</th>\n",
              "      <td>XRP-USDT</td>\n",
              "      <td>okx, bybit, apexpro</td>\n",
              "      <td>0.015518</td>\n",
              "      <td>0.00000</td>\n",
              "      <td>0.000680</td>\n",
              "      <td>0.000643</td>\n",
              "    </tr>\n",
              "    <tr>\n",
              "      <th>2</th>\n",
              "      <td>GMX-USDT</td>\n",
              "      <td>okx, bybit</td>\n",
              "      <td>0.190000</td>\n",
              "      <td>0.00000</td>\n",
              "      <td>0.025254</td>\n",
              "      <td>0.019608</td>\n",
              "    </tr>\n",
              "    <tr>\n",
              "      <th>3</th>\n",
              "      <td>FIL-USDT</td>\n",
              "      <td>okx, bybit</td>\n",
              "      <td>0.049000</td>\n",
              "      <td>0.00000</td>\n",
              "      <td>0.001723</td>\n",
              "      <td>0.001301</td>\n",
              "    </tr>\n",
              "    <tr>\n",
              "      <th>4</th>\n",
              "      <td>ARB-USDT</td>\n",
              "      <td>okx, bybit, apexpro</td>\n",
              "      <td>0.032897</td>\n",
              "      <td>0.00002</td>\n",
              "      <td>0.001903</td>\n",
              "      <td>0.001546</td>\n",
              "    </tr>\n",
              "    <tr>\n",
              "      <th>...</th>\n",
              "      <td>...</td>\n",
              "      <td>...</td>\n",
              "      <td>...</td>\n",
              "      <td>...</td>\n",
              "      <td>...</td>\n",
              "      <td>...</td>\n",
              "    </tr>\n",
              "    <tr>\n",
              "      <th>106</th>\n",
              "      <td>ENJ-USDT</td>\n",
              "      <td>okx, bybit</td>\n",
              "      <td>0.001200</td>\n",
              "      <td>0.00000</td>\n",
              "      <td>0.000258</td>\n",
              "      <td>0.000190</td>\n",
              "    </tr>\n",
              "    <tr>\n",
              "      <th>107</th>\n",
              "      <td>CRO-USDT</td>\n",
              "      <td>okx, bybit</td>\n",
              "      <td>0.000500</td>\n",
              "      <td>0.00000</td>\n",
              "      <td>0.000064</td>\n",
              "      <td>0.000052</td>\n",
              "    </tr>\n",
              "    <tr>\n",
              "      <th>108</th>\n",
              "      <td>ZEN-USDT</td>\n",
              "      <td>okx, bybit</td>\n",
              "      <td>0.034000</td>\n",
              "      <td>0.00000</td>\n",
              "      <td>0.004704</td>\n",
              "      <td>0.003767</td>\n",
              "    </tr>\n",
              "    <tr>\n",
              "      <th>109</th>\n",
              "      <td>PEOPLE-USDT</td>\n",
              "      <td>okx, bybit</td>\n",
              "      <td>0.000110</td>\n",
              "      <td>0.00000</td>\n",
              "      <td>0.000022</td>\n",
              "      <td>0.000015</td>\n",
              "    </tr>\n",
              "    <tr>\n",
              "      <th>110</th>\n",
              "      <td>REN-USDT</td>\n",
              "      <td>okx, bybit</td>\n",
              "      <td>0.000550</td>\n",
              "      <td>0.00000</td>\n",
              "      <td>0.000058</td>\n",
              "      <td>0.000043</td>\n",
              "    </tr>\n",
              "  </tbody>\n",
              "</table>\n",
              "<p>111 rows × 6 columns</p>\n",
              "</div>\n",
              "      <button class=\"colab-df-convert\" onclick=\"convertToInteractive('df-c5cf6685-d0a0-4f72-b18e-d2c417dc24bf')\"\n",
              "              title=\"Convert this dataframe to an interactive table.\"\n",
              "              style=\"display:none;\">\n",
              "        \n",
              "  <svg xmlns=\"http://www.w3.org/2000/svg\" height=\"24px\"viewBox=\"0 0 24 24\"\n",
              "       width=\"24px\">\n",
              "    <path d=\"M0 0h24v24H0V0z\" fill=\"none\"/>\n",
              "    <path d=\"M18.56 5.44l.94 2.06.94-2.06 2.06-.94-2.06-.94-.94-2.06-.94 2.06-2.06.94zm-11 1L8.5 8.5l.94-2.06 2.06-.94-2.06-.94L8.5 2.5l-.94 2.06-2.06.94zm10 10l.94 2.06.94-2.06 2.06-.94-2.06-.94-.94-2.06-.94 2.06-2.06.94z\"/><path d=\"M17.41 7.96l-1.37-1.37c-.4-.4-.92-.59-1.43-.59-.52 0-1.04.2-1.43.59L10.3 9.45l-7.72 7.72c-.78.78-.78 2.05 0 2.83L4 21.41c.39.39.9.59 1.41.59.51 0 1.02-.2 1.41-.59l7.78-7.78 2.81-2.81c.8-.78.8-2.07 0-2.86zM5.41 20L4 18.59l7.72-7.72 1.47 1.35L5.41 20z\"/>\n",
              "  </svg>\n",
              "      </button>\n",
              "      \n",
              "  <style>\n",
              "    .colab-df-container {\n",
              "      display:flex;\n",
              "      flex-wrap:wrap;\n",
              "      gap: 12px;\n",
              "    }\n",
              "\n",
              "    .colab-df-convert {\n",
              "      background-color: #E8F0FE;\n",
              "      border: none;\n",
              "      border-radius: 50%;\n",
              "      cursor: pointer;\n",
              "      display: none;\n",
              "      fill: #1967D2;\n",
              "      height: 32px;\n",
              "      padding: 0 0 0 0;\n",
              "      width: 32px;\n",
              "    }\n",
              "\n",
              "    .colab-df-convert:hover {\n",
              "      background-color: #E2EBFA;\n",
              "      box-shadow: 0px 1px 2px rgba(60, 64, 67, 0.3), 0px 1px 3px 1px rgba(60, 64, 67, 0.15);\n",
              "      fill: #174EA6;\n",
              "    }\n",
              "\n",
              "    [theme=dark] .colab-df-convert {\n",
              "      background-color: #3B4455;\n",
              "      fill: #D2E3FC;\n",
              "    }\n",
              "\n",
              "    [theme=dark] .colab-df-convert:hover {\n",
              "      background-color: #434B5C;\n",
              "      box-shadow: 0px 1px 3px 1px rgba(0, 0, 0, 0.15);\n",
              "      filter: drop-shadow(0px 1px 2px rgba(0, 0, 0, 0.3));\n",
              "      fill: #FFFFFF;\n",
              "    }\n",
              "  </style>\n",
              "\n",
              "      <script>\n",
              "        const buttonEl =\n",
              "          document.querySelector('#df-c5cf6685-d0a0-4f72-b18e-d2c417dc24bf button.colab-df-convert');\n",
              "        buttonEl.style.display =\n",
              "          google.colab.kernel.accessAllowed ? 'block' : 'none';\n",
              "\n",
              "        async function convertToInteractive(key) {\n",
              "          const element = document.querySelector('#df-c5cf6685-d0a0-4f72-b18e-d2c417dc24bf');\n",
              "          const dataTable =\n",
              "            await google.colab.kernel.invokeFunction('convertToInteractive',\n",
              "                                                     [key], {});\n",
              "          if (!dataTable) return;\n",
              "\n",
              "          const docLinkHtml = 'Like what you see? Visit the ' +\n",
              "            '<a target=\"_blank\" href=https://colab.research.google.com/notebooks/data_table.ipynb>data table notebook</a>'\n",
              "            + ' to learn more about interactive tables.';\n",
              "          element.innerHTML = '';\n",
              "          dataTable['output_type'] = 'display_data';\n",
              "          await google.colab.output.renderOutput(dataTable, element);\n",
              "          const docLink = document.createElement('div');\n",
              "          docLink.innerHTML = docLinkHtml;\n",
              "          element.appendChild(docLink);\n",
              "        }\n",
              "      </script>\n",
              "    </div>\n",
              "  </div>\n",
              "  "
            ]
          },
          "metadata": {},
          "execution_count": 52
        }
      ]
    },
    {
      "cell_type": "code",
      "source": [
        "result_df['Exchanges']"
      ],
      "metadata": {
        "id": "kPw5MWRc_jQZ"
      },
      "execution_count": null,
      "outputs": []
    },
    {
      "cell_type": "code",
      "source": [
        "common_pairs"
      ],
      "metadata": {
        "colab": {
          "base_uri": "https://localhost:8080/"
        },
        "id": "ECyhBi1lRhfV",
        "outputId": "90cede10-ce3c-454e-927a-b25ed9dc6ffa"
      },
      "execution_count": 43,
      "outputs": [
        {
          "output_type": "execute_result",
          "data": {
            "text/plain": [
              "set()"
            ]
          },
          "metadata": {},
          "execution_count": 43
        }
      ]
    },
    {
      "cell_type": "code",
      "source": [
        "okx_pairs"
      ],
      "metadata": {
        "id": "dMXpHquVUqe4"
      },
      "execution_count": null,
      "outputs": []
    },
    {
      "cell_type": "code",
      "source": [],
      "metadata": {
        "id": "zfCCqp38VLPv"
      },
      "execution_count": null,
      "outputs": []
    }
  ]
}